{
 "cells": [
  {
   "cell_type": "markdown",
   "id": "5a85456a",
   "metadata": {},
   "source": [
    "# Project B - Morten"
   ]
  },
  {
   "cell_type": "markdown",
   "id": "f41a11e0",
   "metadata": {},
   "source": [
    "## Microenvironment sensor data"
   ]
  },
  {
   "cell_type": "markdown",
   "id": "6a55d59a",
   "metadata": {},
   "source": [
    "The purpose of this section of our project is to get an understanding of the microenvironment in Melbourne. We want to figure out 2 things with this data. We want to find out where the best place to live in Melbourne is, and we will use other datasets for this task also.\n",
    "\n",
    "Second we want to use this dataset exclusively to predict the microenvironment in the future, so we can estimate where the best place to live in the future will be."
   ]
  },
  {
   "cell_type": "markdown",
   "id": "8b417aff",
   "metadata": {},
   "source": [
    "### Step 1: Adding location data to the main dataframe"
   ]
  },
  {
   "cell_type": "code",
   "execution_count": 2,
   "id": "196fe805",
   "metadata": {},
   "outputs": [],
   "source": [
    "import pandas as pd\n",
    "import numpy as np"
   ]
  },
  {
   "cell_type": "code",
   "execution_count": 3,
   "id": "cd26fd5a",
   "metadata": {},
   "outputs": [],
   "source": [
    "df_mcr=pd.read_csv(\"Microclimate_Sensor_Readings.csv\")\n",
    "df_l=pd.read_csv(\"Microclimate_Sensor_Locations.csv\")"
   ]
  },
  {
   "cell_type": "code",
   "execution_count": 4,
   "id": "061a9a8c",
   "metadata": {},
   "outputs": [
    {
     "data": {
      "text/plain": [
       "(3619496, 8)"
      ]
     },
     "execution_count": 4,
     "metadata": {},
     "output_type": "execute_result"
    }
   ],
   "source": [
    "df_mcr.shape"
   ]
  },
  {
   "cell_type": "code",
   "execution_count": 5,
   "id": "e05409cd",
   "metadata": {},
   "outputs": [
    {
     "data": {
      "text/plain": [
       "(16, 10)"
      ]
     },
     "execution_count": 5,
     "metadata": {},
     "output_type": "execute_result"
    }
   ],
   "source": [
    "df_l.shape"
   ]
  },
  {
   "cell_type": "code",
   "execution_count": 6,
   "id": "eba04922",
   "metadata": {},
   "outputs": [
    {
     "data": {
      "text/html": [
       "<div>\n",
       "<style scoped>\n",
       "    .dataframe tbody tr th:only-of-type {\n",
       "        vertical-align: middle;\n",
       "    }\n",
       "\n",
       "    .dataframe tbody tr th {\n",
       "        vertical-align: top;\n",
       "    }\n",
       "\n",
       "    .dataframe thead th {\n",
       "        text-align: right;\n",
       "    }\n",
       "</style>\n",
       "<table border=\"1\" class=\"dataframe\">\n",
       "  <thead>\n",
       "    <tr style=\"text-align: right;\">\n",
       "      <th></th>\n",
       "      <th>id</th>\n",
       "      <th>site_id</th>\n",
       "      <th>gateway_hub_id</th>\n",
       "      <th>sensor_id</th>\n",
       "      <th>value</th>\n",
       "      <th>local_time</th>\n",
       "      <th>type</th>\n",
       "      <th>units</th>\n",
       "    </tr>\n",
       "  </thead>\n",
       "  <tbody>\n",
       "    <tr>\n",
       "      <th>0</th>\n",
       "      <td>1</td>\n",
       "      <td>1001</td>\n",
       "      <td>arc1045</td>\n",
       "      <td>0a.EPA-1h</td>\n",
       "      <td>3.9</td>\n",
       "      <td>2019/11/15 09:00:00 AM</td>\n",
       "      <td>PM2.5-EPA-1h</td>\n",
       "      <td>ug/m^3</td>\n",
       "    </tr>\n",
       "    <tr>\n",
       "      <th>1</th>\n",
       "      <td>2</td>\n",
       "      <td>1001</td>\n",
       "      <td>arc1045</td>\n",
       "      <td>0a.EPA-1h.NOPK</td>\n",
       "      <td>3.9</td>\n",
       "      <td>2019/11/15 09:00:00 AM</td>\n",
       "      <td>PM2.5-EPA-1h-NOPK</td>\n",
       "      <td>ug/m^3</td>\n",
       "    </tr>\n",
       "    <tr>\n",
       "      <th>2</th>\n",
       "      <td>3</td>\n",
       "      <td>1001</td>\n",
       "      <td>arc1045</td>\n",
       "      <td>0a.EPA-1h.NOPK.EPA-24h</td>\n",
       "      <td>5.5</td>\n",
       "      <td>2019/11/15 09:00:00 AM</td>\n",
       "      <td>PM2.5-EPA-1h-NOPK-EPA-24h</td>\n",
       "      <td>ug/m^3</td>\n",
       "    </tr>\n",
       "    <tr>\n",
       "      <th>3</th>\n",
       "      <td>4</td>\n",
       "      <td>1001</td>\n",
       "      <td>arc1045</td>\n",
       "      <td>0a.EPA-1h.PKIND</td>\n",
       "      <td>1.0</td>\n",
       "      <td>2019/11/15 09:00:00 AM</td>\n",
       "      <td>PM2.5-EPA-1h-PKIND</td>\n",
       "      <td>0/1</td>\n",
       "    </tr>\n",
       "    <tr>\n",
       "      <th>4</th>\n",
       "      <td>5</td>\n",
       "      <td>1001</td>\n",
       "      <td>arc1045</td>\n",
       "      <td>0a.EPA-24h</td>\n",
       "      <td>5.5</td>\n",
       "      <td>2019/11/15 09:00:00 AM</td>\n",
       "      <td>PM2.5-EPA-24h</td>\n",
       "      <td>ug/m^3</td>\n",
       "    </tr>\n",
       "  </tbody>\n",
       "</table>\n",
       "</div>"
      ],
      "text/plain": [
       "   id  site_id gateway_hub_id               sensor_id  value  \\\n",
       "0   1     1001        arc1045               0a.EPA-1h    3.9   \n",
       "1   2     1001        arc1045          0a.EPA-1h.NOPK    3.9   \n",
       "2   3     1001        arc1045  0a.EPA-1h.NOPK.EPA-24h    5.5   \n",
       "3   4     1001        arc1045         0a.EPA-1h.PKIND    1.0   \n",
       "4   5     1001        arc1045              0a.EPA-24h    5.5   \n",
       "\n",
       "               local_time                       type   units  \n",
       "0  2019/11/15 09:00:00 AM               PM2.5-EPA-1h  ug/m^3  \n",
       "1  2019/11/15 09:00:00 AM          PM2.5-EPA-1h-NOPK  ug/m^3  \n",
       "2  2019/11/15 09:00:00 AM  PM2.5-EPA-1h-NOPK-EPA-24h  ug/m^3  \n",
       "3  2019/11/15 09:00:00 AM         PM2.5-EPA-1h-PKIND     0/1  \n",
       "4  2019/11/15 09:00:00 AM              PM2.5-EPA-24h  ug/m^3  "
      ]
     },
     "execution_count": 6,
     "metadata": {},
     "output_type": "execute_result"
    }
   ],
   "source": [
    "df_mcr.head()"
   ]
  },
  {
   "cell_type": "code",
   "execution_count": 7,
   "id": "cbc71053",
   "metadata": {},
   "outputs": [
    {
     "data": {
      "text/plain": [
       "array(['arc1045', 'arc1046', 'arc1047', 'arc1048', 'arc1050', 'arc1112',\n",
       "       'arc1055', 'arc1049', 'arc1113'], dtype=object)"
      ]
     },
     "execution_count": 7,
     "metadata": {},
     "output_type": "execute_result"
    }
   ],
   "source": [
    "unit=df_mcr[\"units\"].unique()\n",
    "unit\n",
    "\n",
    "sensor=df_mcr[\"gateway_hub_id\"].unique()\n",
    "sensor"
   ]
  },
  {
   "cell_type": "code",
   "execution_count": 8,
   "id": "073b7973",
   "metadata": {},
   "outputs": [],
   "source": [
    "# To datetime operations\n",
    "df_mcr[\"local_time\"]=pd.to_datetime(df_mcr[\"local_time\"],format='%Y/%m/%d %I:%M:%S %p')"
   ]
  },
  {
   "cell_type": "markdown",
   "id": "20a89a61",
   "metadata": {},
   "source": [
    "### Hvad er det jeg gerne vil vise med dette dataset?\n",
    "\n",
    "Jeg har 16 locationer der måler alt muligt gøgl. 16 steder er jo ikke så meget når det drejer sig om at finde det bedste sted at leve. Desuden er flere af dem meget tæt på hinanden, hvilket ikke bidrager til diversiteten.\n",
    "\n",
    "I forhold til forudsigelserne af målingerne er det også et problem at ikke alle sensorer måler fra samme starttidspunkts. Hvordan skal man så få en ensartet tidslinje?"
   ]
  },
  {
   "cell_type": "markdown",
   "id": "32814df8",
   "metadata": {},
   "source": [
    "Jeg bliver nødt til at start med at undersøge omfanget af data. Det gælder både for de forskellige lokationer men også for de forskellige måleparametre. Så hvor meget data er der for eksemple på temperatur i dette område inden for en given periode?"
   ]
  },
  {
   "cell_type": "code",
   "execution_count": 9,
   "id": "7de1106d",
   "metadata": {},
   "outputs": [
    {
     "name": "stdout",
     "output_type": "stream",
     "text": [
      "ug/m^3      (1558432, 8) 2019-11-15 09:00:00 2022-04-01 17:00:11\n",
      "0/1      (182694, 8) 2019-11-15 09:00:00 2022-04-01 16:00:00\n",
      "C      (500125, 8) 2019-11-15 09:00:00 2022-04-01 17:00:02\n",
      "%      (500125, 8) 2019-11-15 09:00:00 2022-04-01 17:00:02\n",
      "hPa      (407881, 8) 2019-11-15 09:15:00 2022-04-01 17:00:02\n",
      "km/h      (407759, 8) 2019-11-15 09:15:00 2022-04-01 17:00:03\n",
      "ug\\/m^3      (62480, 8) 2021-08-25 18:15:11 2022-04-01 17:00:11\n"
     ]
    }
   ],
   "source": [
    "# Measurements on df_mcr.\n",
    "for i in range(len(unit)):\n",
    "    temp=df_mcr.loc[df_mcr[\"units\"]==unit[i]]\n",
    "    first_date = temp[\"local_time\"].min()\n",
    "    last_date = temp[\"local_time\"].max()\n",
    "    print(unit[i],\"    \",temp.shape, first_date, last_date)\n"
   ]
  },
  {
   "cell_type": "code",
   "execution_count": 10,
   "id": "e5abf8d1",
   "metadata": {},
   "outputs": [
    {
     "name": "stdout",
     "output_type": "stream",
     "text": [
      "arc1045      (618475, 8) 2019-11-15 09:00:00 2022-04-01 17:00:11 ['ug/m^3' '0/1' 'C' '%' 'hPa' 'km/h']\n",
      "arc1046      (489023, 8) 2019-11-15 09:00:00 2022-04-01 17:00:11 ['ug/m^3' '0/1' 'C' '%' 'hPa' 'km/h']\n",
      "arc1047      (498906, 8) 2019-11-15 09:00:00 2022-04-01 17:00:11 ['ug/m^3' '0/1' 'C' '%' 'hPa' 'km/h']\n",
      "arc1048      (422544, 8) 2019-11-15 09:00:00 2022-04-01 16:00:11 ['ug/m^3' '0/1' 'C' '%' 'hPa' 'km/h']\n",
      "arc1050      (733886, 8) 2019-11-15 09:00:00 2022-04-01 17:00:11 ['ug/m^3' '%' '0/1' 'C' 'hPa' 'km/h']\n",
      "arc1112      (268086, 8) 2021-05-20 00:00:00 2022-04-01 17:00:11 ['hPa' 'ug/m^3' '%' 'C' 'km/h' '0/1']\n",
      "arc1055      (187432, 8) 2021-08-25 18:15:02 2022-04-01 17:00:11 ['ug\\\\/m^3' 'C' '%' 'km/h' '0/1' 'hPa' 'ug/m^3']\n",
      "arc1049      (132386, 8) 2021-09-20 18:15:02 2022-04-01 17:00:11 ['0/1' 'km/h' 'ug/m^3' '%' 'hPa' 'C']\n",
      "arc1113      (268758, 8) 2021-05-20 00:00:00 2022-04-01 17:00:11 ['%' 'ug/m^3' 'hPa' 'km/h' 'C' '0/1']\n"
     ]
    }
   ],
   "source": [
    "# Measurements on df_mcr.\n",
    "for i in range(len(sensor)):\n",
    "    temp=df_mcr.loc[df_mcr[\"gateway_hub_id\"]==sensor[i]]\n",
    "    first_date = temp[\"local_time\"].min()\n",
    "    last_date = temp[\"local_time\"].max()\n",
    "    \n",
    "    print(sensor[i],\"    \",temp.shape, first_date, last_date,temp[\"units\"].unique())"
   ]
  },
  {
   "cell_type": "code",
   "execution_count": 11,
   "id": "abed24bd",
   "metadata": {},
   "outputs": [
    {
     "data": {
      "text/html": [
       "<div>\n",
       "<style scoped>\n",
       "    .dataframe tbody tr th:only-of-type {\n",
       "        vertical-align: middle;\n",
       "    }\n",
       "\n",
       "    .dataframe tbody tr th {\n",
       "        vertical-align: top;\n",
       "    }\n",
       "\n",
       "    .dataframe thead th {\n",
       "        text-align: right;\n",
       "    }\n",
       "</style>\n",
       "<table border=\"1\" class=\"dataframe\">\n",
       "  <thead>\n",
       "    <tr style=\"text-align: right;\">\n",
       "      <th></th>\n",
       "      <th>site_id</th>\n",
       "      <th>gateway_hub_id</th>\n",
       "      <th>description</th>\n",
       "      <th>last_data</th>\n",
       "      <th>site_status</th>\n",
       "      <th>start_reading</th>\n",
       "      <th>end_reading</th>\n",
       "      <th>longitude</th>\n",
       "      <th>latitude</th>\n",
       "      <th>location</th>\n",
       "    </tr>\n",
       "  </thead>\n",
       "  <tbody>\n",
       "    <tr>\n",
       "      <th>0</th>\n",
       "      <td>1003</td>\n",
       "      <td>arc1047</td>\n",
       "      <td>Pelham Street between Bouverie Street and Leic...</td>\n",
       "      <td>NaN</td>\n",
       "      <td>R</td>\n",
       "      <td>2019/11/15</td>\n",
       "      <td>2021/06/13</td>\n",
       "      <td>144.960923</td>\n",
       "      <td>-37.802300</td>\n",
       "      <td>POINT (144.960923 -37.8023)</td>\n",
       "    </tr>\n",
       "    <tr>\n",
       "      <th>1</th>\n",
       "      <td>1008</td>\n",
       "      <td>arc1045</td>\n",
       "      <td>Flinders Street between Swanston Street and El...</td>\n",
       "      <td>NaN</td>\n",
       "      <td>R</td>\n",
       "      <td>2021/06/14</td>\n",
       "      <td>2021/06/20</td>\n",
       "      <td>144.967057</td>\n",
       "      <td>-37.817465</td>\n",
       "      <td>POINT (144.96705703 -37.81746522)</td>\n",
       "    </tr>\n",
       "    <tr>\n",
       "      <th>2</th>\n",
       "      <td>1007</td>\n",
       "      <td>arc1113</td>\n",
       "      <td>Siddeley Street between Spencer Street and Wur...</td>\n",
       "      <td>2022/04/01 06:00:01 PM</td>\n",
       "      <td>C</td>\n",
       "      <td>2021/05/20</td>\n",
       "      <td>NaN</td>\n",
       "      <td>144.951835</td>\n",
       "      <td>-37.822460</td>\n",
       "      <td>POINT (144.951835 -37.82246)</td>\n",
       "    </tr>\n",
       "    <tr>\n",
       "      <th>3</th>\n",
       "      <td>1012</td>\n",
       "      <td>arc1048</td>\n",
       "      <td>Little Collins Street between Exhibition Stree...</td>\n",
       "      <td>2022/04/01 06:00:01 PM</td>\n",
       "      <td>C</td>\n",
       "      <td>2021/09/17</td>\n",
       "      <td>NaN</td>\n",
       "      <td>144.970000</td>\n",
       "      <td>-37.813333</td>\n",
       "      <td>POINT (144.97 -37.813333)</td>\n",
       "    </tr>\n",
       "    <tr>\n",
       "      <th>4</th>\n",
       "      <td>1004</td>\n",
       "      <td>arc1048</td>\n",
       "      <td>Grattan Street between Cardigan Street and Swa...</td>\n",
       "      <td>NaN</td>\n",
       "      <td>R</td>\n",
       "      <td>2019/11/15</td>\n",
       "      <td>2021/06/13</td>\n",
       "      <td>144.964635</td>\n",
       "      <td>-37.800575</td>\n",
       "      <td>POINT (144.964635 -37.800575)</td>\n",
       "    </tr>\n",
       "  </tbody>\n",
       "</table>\n",
       "</div>"
      ],
      "text/plain": [
       "   site_id gateway_hub_id                                        description  \\\n",
       "0     1003        arc1047  Pelham Street between Bouverie Street and Leic...   \n",
       "1     1008        arc1045  Flinders Street between Swanston Street and El...   \n",
       "2     1007        arc1113  Siddeley Street between Spencer Street and Wur...   \n",
       "3     1012        arc1048  Little Collins Street between Exhibition Stree...   \n",
       "4     1004        arc1048  Grattan Street between Cardigan Street and Swa...   \n",
       "\n",
       "                last_data site_status start_reading end_reading   longitude  \\\n",
       "0                     NaN           R    2019/11/15  2021/06/13  144.960923   \n",
       "1                     NaN           R    2021/06/14  2021/06/20  144.967057   \n",
       "2  2022/04/01 06:00:01 PM           C    2021/05/20         NaN  144.951835   \n",
       "3  2022/04/01 06:00:01 PM           C    2021/09/17         NaN  144.970000   \n",
       "4                     NaN           R    2019/11/15  2021/06/13  144.964635   \n",
       "\n",
       "    latitude                           location  \n",
       "0 -37.802300        POINT (144.960923 -37.8023)  \n",
       "1 -37.817465  POINT (144.96705703 -37.81746522)  \n",
       "2 -37.822460       POINT (144.951835 -37.82246)  \n",
       "3 -37.813333          POINT (144.97 -37.813333)  \n",
       "4 -37.800575      POINT (144.964635 -37.800575)  "
      ]
     },
     "execution_count": 11,
     "metadata": {},
     "output_type": "execute_result"
    }
   ],
   "source": [
    "df_l.head(5)"
   ]
  },
  {
   "cell_type": "code",
   "execution_count": 12,
   "id": "94939d34",
   "metadata": {},
   "outputs": [
    {
     "data": {
      "text/plain": [
       "(16, 10)"
      ]
     },
     "execution_count": 12,
     "metadata": {},
     "output_type": "execute_result"
    }
   ],
   "source": [
    "df_l.shape"
   ]
  },
  {
   "cell_type": "code",
   "execution_count": 13,
   "id": "508a6765",
   "metadata": {},
   "outputs": [],
   "source": [
    "lat=df_l[\"latitude\"]\n",
    "lon=df_l[\"longitude\"]\n",
    "site=df_l[\"site_id\"]"
   ]
  },
  {
   "cell_type": "code",
   "execution_count": 14,
   "id": "ccacccee",
   "metadata": {},
   "outputs": [
    {
     "data": {
      "text/html": [
       "<div style=\"width:100%;\"><div style=\"position:relative;width:100%;height:0;padding-bottom:60%;\"><span style=\"color:#565656\">Make this Notebook Trusted to load map: File -> Trust Notebook</span><iframe src=\"about:blank\" style=\"position:absolute;width:100%;height:100%;left:0;top:0;border:none !important;\" data-html=%3C%21DOCTYPE%20html%3E%0A%3Chead%3E%20%20%20%20%0A%20%20%20%20%3Cmeta%20http-equiv%3D%22content-type%22%20content%3D%22text/html%3B%20charset%3DUTF-8%22%20/%3E%0A%20%20%20%20%0A%20%20%20%20%20%20%20%20%3Cscript%3E%0A%20%20%20%20%20%20%20%20%20%20%20%20L_NO_TOUCH%20%3D%20false%3B%0A%20%20%20%20%20%20%20%20%20%20%20%20L_DISABLE_3D%20%3D%20false%3B%0A%20%20%20%20%20%20%20%20%3C/script%3E%0A%20%20%20%20%0A%20%20%20%20%3Cstyle%3Ehtml%2C%20body%20%7Bwidth%3A%20100%25%3Bheight%3A%20100%25%3Bmargin%3A%200%3Bpadding%3A%200%3B%7D%3C/style%3E%0A%20%20%20%20%3Cstyle%3E%23map%20%7Bposition%3Aabsolute%3Btop%3A0%3Bbottom%3A0%3Bright%3A0%3Bleft%3A0%3B%7D%3C/style%3E%0A%20%20%20%20%3Cscript%20src%3D%22https%3A//cdn.jsdelivr.net/npm/leaflet%401.6.0/dist/leaflet.js%22%3E%3C/script%3E%0A%20%20%20%20%3Cscript%20src%3D%22https%3A//code.jquery.com/jquery-1.12.4.min.js%22%3E%3C/script%3E%0A%20%20%20%20%3Cscript%20src%3D%22https%3A//maxcdn.bootstrapcdn.com/bootstrap/3.2.0/js/bootstrap.min.js%22%3E%3C/script%3E%0A%20%20%20%20%3Cscript%20src%3D%22https%3A//cdnjs.cloudflare.com/ajax/libs/Leaflet.awesome-markers/2.0.2/leaflet.awesome-markers.js%22%3E%3C/script%3E%0A%20%20%20%20%3Clink%20rel%3D%22stylesheet%22%20href%3D%22https%3A//cdn.jsdelivr.net/npm/leaflet%401.6.0/dist/leaflet.css%22/%3E%0A%20%20%20%20%3Clink%20rel%3D%22stylesheet%22%20href%3D%22https%3A//maxcdn.bootstrapcdn.com/bootstrap/3.2.0/css/bootstrap.min.css%22/%3E%0A%20%20%20%20%3Clink%20rel%3D%22stylesheet%22%20href%3D%22https%3A//maxcdn.bootstrapcdn.com/bootstrap/3.2.0/css/bootstrap-theme.min.css%22/%3E%0A%20%20%20%20%3Clink%20rel%3D%22stylesheet%22%20href%3D%22https%3A//maxcdn.bootstrapcdn.com/font-awesome/4.6.3/css/font-awesome.min.css%22/%3E%0A%20%20%20%20%3Clink%20rel%3D%22stylesheet%22%20href%3D%22https%3A//cdnjs.cloudflare.com/ajax/libs/Leaflet.awesome-markers/2.0.2/leaflet.awesome-markers.css%22/%3E%0A%20%20%20%20%3Clink%20rel%3D%22stylesheet%22%20href%3D%22https%3A//cdn.jsdelivr.net/gh/python-visualization/folium/folium/templates/leaflet.awesome.rotate.min.css%22/%3E%0A%20%20%20%20%0A%20%20%20%20%20%20%20%20%20%20%20%20%3Cmeta%20name%3D%22viewport%22%20content%3D%22width%3Ddevice-width%2C%0A%20%20%20%20%20%20%20%20%20%20%20%20%20%20%20%20initial-scale%3D1.0%2C%20maximum-scale%3D1.0%2C%20user-scalable%3Dno%22%20/%3E%0A%20%20%20%20%20%20%20%20%20%20%20%20%3Cstyle%3E%0A%20%20%20%20%20%20%20%20%20%20%20%20%20%20%20%20%23map_17add72dbb69424d97e6368723a588f0%20%7B%0A%20%20%20%20%20%20%20%20%20%20%20%20%20%20%20%20%20%20%20%20position%3A%20relative%3B%0A%20%20%20%20%20%20%20%20%20%20%20%20%20%20%20%20%20%20%20%20width%3A%20100.0%25%3B%0A%20%20%20%20%20%20%20%20%20%20%20%20%20%20%20%20%20%20%20%20height%3A%20100.0%25%3B%0A%20%20%20%20%20%20%20%20%20%20%20%20%20%20%20%20%20%20%20%20left%3A%200.0%25%3B%0A%20%20%20%20%20%20%20%20%20%20%20%20%20%20%20%20%20%20%20%20top%3A%200.0%25%3B%0A%20%20%20%20%20%20%20%20%20%20%20%20%20%20%20%20%7D%0A%20%20%20%20%20%20%20%20%20%20%20%20%3C/style%3E%0A%20%20%20%20%20%20%20%20%0A%3C/head%3E%0A%3Cbody%3E%20%20%20%20%0A%20%20%20%20%0A%20%20%20%20%20%20%20%20%20%20%20%20%3Cdiv%20class%3D%22folium-map%22%20id%3D%22map_17add72dbb69424d97e6368723a588f0%22%20%3E%3C/div%3E%0A%20%20%20%20%20%20%20%20%0A%3C/body%3E%0A%3Cscript%3E%20%20%20%20%0A%20%20%20%20%0A%20%20%20%20%20%20%20%20%20%20%20%20var%20map_17add72dbb69424d97e6368723a588f0%20%3D%20L.map%28%0A%20%20%20%20%20%20%20%20%20%20%20%20%20%20%20%20%22map_17add72dbb69424d97e6368723a588f0%22%2C%0A%20%20%20%20%20%20%20%20%20%20%20%20%20%20%20%20%7B%0A%20%20%20%20%20%20%20%20%20%20%20%20%20%20%20%20%20%20%20%20center%3A%20%5B-37.808835%2C%20144.962457%5D%2C%0A%20%20%20%20%20%20%20%20%20%20%20%20%20%20%20%20%20%20%20%20crs%3A%20L.CRS.EPSG3857%2C%0A%20%20%20%20%20%20%20%20%20%20%20%20%20%20%20%20%20%20%20%20zoom%3A%2014%2C%0A%20%20%20%20%20%20%20%20%20%20%20%20%20%20%20%20%20%20%20%20zoomControl%3A%20true%2C%0A%20%20%20%20%20%20%20%20%20%20%20%20%20%20%20%20%20%20%20%20preferCanvas%3A%20false%2C%0A%20%20%20%20%20%20%20%20%20%20%20%20%20%20%20%20%7D%0A%20%20%20%20%20%20%20%20%20%20%20%20%29%3B%0A%0A%20%20%20%20%20%20%20%20%20%20%20%20%0A%0A%20%20%20%20%20%20%20%20%0A%20%20%20%20%0A%20%20%20%20%20%20%20%20%20%20%20%20var%20tile_layer_cc767b6b80fa4144a24ac462d45cb04d%20%3D%20L.tileLayer%28%0A%20%20%20%20%20%20%20%20%20%20%20%20%20%20%20%20%22https%3A//%7Bs%7D.tile.openstreetmap.org/%7Bz%7D/%7Bx%7D/%7By%7D.png%22%2C%0A%20%20%20%20%20%20%20%20%20%20%20%20%20%20%20%20%7B%22attribution%22%3A%20%22Data%20by%20%5Cu0026copy%3B%20%5Cu003ca%20href%3D%5C%22http%3A//openstreetmap.org%5C%22%5Cu003eOpenStreetMap%5Cu003c/a%5Cu003e%2C%20under%20%5Cu003ca%20href%3D%5C%22http%3A//www.openstreetmap.org/copyright%5C%22%5Cu003eODbL%5Cu003c/a%5Cu003e.%22%2C%20%22detectRetina%22%3A%20false%2C%20%22maxNativeZoom%22%3A%2018%2C%20%22maxZoom%22%3A%2018%2C%20%22minZoom%22%3A%200%2C%20%22noWrap%22%3A%20false%2C%20%22opacity%22%3A%201%2C%20%22subdomains%22%3A%20%22abc%22%2C%20%22tms%22%3A%20false%7D%0A%20%20%20%20%20%20%20%20%20%20%20%20%29.addTo%28map_17add72dbb69424d97e6368723a588f0%29%3B%0A%20%20%20%20%20%20%20%20%0A%20%20%20%20%0A%20%20%20%20%20%20%20%20%20%20%20%20var%20circle_marker_4df8214200df482d81b97ee453f842c3%20%3D%20L.circleMarker%28%0A%20%20%20%20%20%20%20%20%20%20%20%20%20%20%20%20%5B-37.8023%2C%20144.960923%5D%2C%0A%20%20%20%20%20%20%20%20%20%20%20%20%20%20%20%20%7B%22bubblingMouseEvents%22%3A%20true%2C%20%22color%22%3A%20%22red%22%2C%20%22dashArray%22%3A%20null%2C%20%22dashOffset%22%3A%20null%2C%20%22fill%22%3A%20false%2C%20%22fillColor%22%3A%20%22red%22%2C%20%22fillOpacity%22%3A%200.2%2C%20%22fillRule%22%3A%20%22evenodd%22%2C%20%22lineCap%22%3A%20%22round%22%2C%20%22lineJoin%22%3A%20%22round%22%2C%20%22opacity%22%3A%201.0%2C%20%22radius%22%3A%202%2C%20%22stroke%22%3A%20true%2C%20%22weight%22%3A%203%7D%0A%20%20%20%20%20%20%20%20%20%20%20%20%29.addTo%28map_17add72dbb69424d97e6368723a588f0%29%3B%0A%20%20%20%20%20%20%20%20%0A%20%20%20%20%0A%20%20%20%20%20%20%20%20var%20popup_207b846ef1194372bbb77a5738979c6c%20%3D%20L.popup%28%7B%22maxWidth%22%3A%20%22100%25%22%7D%29%3B%0A%0A%20%20%20%20%20%20%20%20%0A%20%20%20%20%20%20%20%20%20%20%20%20var%20html_361db3ef871d413193b92d3e8674f6a2%20%3D%20%24%28%60%3Cdiv%20id%3D%22html_361db3ef871d413193b92d3e8674f6a2%22%20style%3D%22width%3A%20100.0%25%3B%20height%3A%20100.0%25%3B%22%3E1003%3C/div%3E%60%29%5B0%5D%3B%0A%20%20%20%20%20%20%20%20%20%20%20%20popup_207b846ef1194372bbb77a5738979c6c.setContent%28html_361db3ef871d413193b92d3e8674f6a2%29%3B%0A%20%20%20%20%20%20%20%20%0A%0A%20%20%20%20%20%20%20%20circle_marker_4df8214200df482d81b97ee453f842c3.bindPopup%28popup_207b846ef1194372bbb77a5738979c6c%29%0A%20%20%20%20%20%20%20%20%3B%0A%0A%20%20%20%20%20%20%20%20%0A%20%20%20%20%0A%20%20%20%20%0A%20%20%20%20%20%20%20%20%20%20%20%20var%20circle_marker_39c39103753743d0a66a17af72814bb7%20%3D%20L.circleMarker%28%0A%20%20%20%20%20%20%20%20%20%20%20%20%20%20%20%20%5B-37.81746522%2C%20144.96705703%5D%2C%0A%20%20%20%20%20%20%20%20%20%20%20%20%20%20%20%20%7B%22bubblingMouseEvents%22%3A%20true%2C%20%22color%22%3A%20%22red%22%2C%20%22dashArray%22%3A%20null%2C%20%22dashOffset%22%3A%20null%2C%20%22fill%22%3A%20false%2C%20%22fillColor%22%3A%20%22red%22%2C%20%22fillOpacity%22%3A%200.2%2C%20%22fillRule%22%3A%20%22evenodd%22%2C%20%22lineCap%22%3A%20%22round%22%2C%20%22lineJoin%22%3A%20%22round%22%2C%20%22opacity%22%3A%201.0%2C%20%22radius%22%3A%202%2C%20%22stroke%22%3A%20true%2C%20%22weight%22%3A%203%7D%0A%20%20%20%20%20%20%20%20%20%20%20%20%29.addTo%28map_17add72dbb69424d97e6368723a588f0%29%3B%0A%20%20%20%20%20%20%20%20%0A%20%20%20%20%0A%20%20%20%20%20%20%20%20var%20popup_27c8e4ec48d844b383c5e421933c093f%20%3D%20L.popup%28%7B%22maxWidth%22%3A%20%22100%25%22%7D%29%3B%0A%0A%20%20%20%20%20%20%20%20%0A%20%20%20%20%20%20%20%20%20%20%20%20var%20html_42d79fd24df8484cb3f839238368bc4a%20%3D%20%24%28%60%3Cdiv%20id%3D%22html_42d79fd24df8484cb3f839238368bc4a%22%20style%3D%22width%3A%20100.0%25%3B%20height%3A%20100.0%25%3B%22%3E1008%3C/div%3E%60%29%5B0%5D%3B%0A%20%20%20%20%20%20%20%20%20%20%20%20popup_27c8e4ec48d844b383c5e421933c093f.setContent%28html_42d79fd24df8484cb3f839238368bc4a%29%3B%0A%20%20%20%20%20%20%20%20%0A%0A%20%20%20%20%20%20%20%20circle_marker_39c39103753743d0a66a17af72814bb7.bindPopup%28popup_27c8e4ec48d844b383c5e421933c093f%29%0A%20%20%20%20%20%20%20%20%3B%0A%0A%20%20%20%20%20%20%20%20%0A%20%20%20%20%0A%20%20%20%20%0A%20%20%20%20%20%20%20%20%20%20%20%20var%20circle_marker_2fbee85a27444b078e3652d5098703d3%20%3D%20L.circleMarker%28%0A%20%20%20%20%20%20%20%20%20%20%20%20%20%20%20%20%5B-37.82246%2C%20144.951835%5D%2C%0A%20%20%20%20%20%20%20%20%20%20%20%20%20%20%20%20%7B%22bubblingMouseEvents%22%3A%20true%2C%20%22color%22%3A%20%22red%22%2C%20%22dashArray%22%3A%20null%2C%20%22dashOffset%22%3A%20null%2C%20%22fill%22%3A%20false%2C%20%22fillColor%22%3A%20%22red%22%2C%20%22fillOpacity%22%3A%200.2%2C%20%22fillRule%22%3A%20%22evenodd%22%2C%20%22lineCap%22%3A%20%22round%22%2C%20%22lineJoin%22%3A%20%22round%22%2C%20%22opacity%22%3A%201.0%2C%20%22radius%22%3A%202%2C%20%22stroke%22%3A%20true%2C%20%22weight%22%3A%203%7D%0A%20%20%20%20%20%20%20%20%20%20%20%20%29.addTo%28map_17add72dbb69424d97e6368723a588f0%29%3B%0A%20%20%20%20%20%20%20%20%0A%20%20%20%20%0A%20%20%20%20%20%20%20%20var%20popup_bf3860a5be23424bb58f17af93062b06%20%3D%20L.popup%28%7B%22maxWidth%22%3A%20%22100%25%22%7D%29%3B%0A%0A%20%20%20%20%20%20%20%20%0A%20%20%20%20%20%20%20%20%20%20%20%20var%20html_55aaba46fa4940429fe1297404942eb3%20%3D%20%24%28%60%3Cdiv%20id%3D%22html_55aaba46fa4940429fe1297404942eb3%22%20style%3D%22width%3A%20100.0%25%3B%20height%3A%20100.0%25%3B%22%3E1007%3C/div%3E%60%29%5B0%5D%3B%0A%20%20%20%20%20%20%20%20%20%20%20%20popup_bf3860a5be23424bb58f17af93062b06.setContent%28html_55aaba46fa4940429fe1297404942eb3%29%3B%0A%20%20%20%20%20%20%20%20%0A%0A%20%20%20%20%20%20%20%20circle_marker_2fbee85a27444b078e3652d5098703d3.bindPopup%28popup_bf3860a5be23424bb58f17af93062b06%29%0A%20%20%20%20%20%20%20%20%3B%0A%0A%20%20%20%20%20%20%20%20%0A%20%20%20%20%0A%20%20%20%20%0A%20%20%20%20%20%20%20%20%20%20%20%20var%20circle_marker_611a16841d414270982454dd572d85c6%20%3D%20L.circleMarker%28%0A%20%20%20%20%20%20%20%20%20%20%20%20%20%20%20%20%5B-37.813333%2C%20144.97%5D%2C%0A%20%20%20%20%20%20%20%20%20%20%20%20%20%20%20%20%7B%22bubblingMouseEvents%22%3A%20true%2C%20%22color%22%3A%20%22red%22%2C%20%22dashArray%22%3A%20null%2C%20%22dashOffset%22%3A%20null%2C%20%22fill%22%3A%20false%2C%20%22fillColor%22%3A%20%22red%22%2C%20%22fillOpacity%22%3A%200.2%2C%20%22fillRule%22%3A%20%22evenodd%22%2C%20%22lineCap%22%3A%20%22round%22%2C%20%22lineJoin%22%3A%20%22round%22%2C%20%22opacity%22%3A%201.0%2C%20%22radius%22%3A%202%2C%20%22stroke%22%3A%20true%2C%20%22weight%22%3A%203%7D%0A%20%20%20%20%20%20%20%20%20%20%20%20%29.addTo%28map_17add72dbb69424d97e6368723a588f0%29%3B%0A%20%20%20%20%20%20%20%20%0A%20%20%20%20%0A%20%20%20%20%20%20%20%20var%20popup_5226971ab31748dbbf077c154a8b4e4d%20%3D%20L.popup%28%7B%22maxWidth%22%3A%20%22100%25%22%7D%29%3B%0A%0A%20%20%20%20%20%20%20%20%0A%20%20%20%20%20%20%20%20%20%20%20%20var%20html_f27bb88f98ac4b06bf854ad92e62c2da%20%3D%20%24%28%60%3Cdiv%20id%3D%22html_f27bb88f98ac4b06bf854ad92e62c2da%22%20style%3D%22width%3A%20100.0%25%3B%20height%3A%20100.0%25%3B%22%3E1012%3C/div%3E%60%29%5B0%5D%3B%0A%20%20%20%20%20%20%20%20%20%20%20%20popup_5226971ab31748dbbf077c154a8b4e4d.setContent%28html_f27bb88f98ac4b06bf854ad92e62c2da%29%3B%0A%20%20%20%20%20%20%20%20%0A%0A%20%20%20%20%20%20%20%20circle_marker_611a16841d414270982454dd572d85c6.bindPopup%28popup_5226971ab31748dbbf077c154a8b4e4d%29%0A%20%20%20%20%20%20%20%20%3B%0A%0A%20%20%20%20%20%20%20%20%0A%20%20%20%20%0A%20%20%20%20%0A%20%20%20%20%20%20%20%20%20%20%20%20var%20circle_marker_0a7bd07e087347bbba5b5a4444252248%20%3D%20L.circleMarker%28%0A%20%20%20%20%20%20%20%20%20%20%20%20%20%20%20%20%5B-37.800575%2C%20144.964635%5D%2C%0A%20%20%20%20%20%20%20%20%20%20%20%20%20%20%20%20%7B%22bubblingMouseEvents%22%3A%20true%2C%20%22color%22%3A%20%22red%22%2C%20%22dashArray%22%3A%20null%2C%20%22dashOffset%22%3A%20null%2C%20%22fill%22%3A%20false%2C%20%22fillColor%22%3A%20%22red%22%2C%20%22fillOpacity%22%3A%200.2%2C%20%22fillRule%22%3A%20%22evenodd%22%2C%20%22lineCap%22%3A%20%22round%22%2C%20%22lineJoin%22%3A%20%22round%22%2C%20%22opacity%22%3A%201.0%2C%20%22radius%22%3A%202%2C%20%22stroke%22%3A%20true%2C%20%22weight%22%3A%203%7D%0A%20%20%20%20%20%20%20%20%20%20%20%20%29.addTo%28map_17add72dbb69424d97e6368723a588f0%29%3B%0A%20%20%20%20%20%20%20%20%0A%20%20%20%20%0A%20%20%20%20%20%20%20%20var%20popup_f116a841152c4367b5b5b8670917e7ed%20%3D%20L.popup%28%7B%22maxWidth%22%3A%20%22100%25%22%7D%29%3B%0A%0A%20%20%20%20%20%20%20%20%0A%20%20%20%20%20%20%20%20%20%20%20%20var%20html_3eccd0fce25d419ca631ed209814676a%20%3D%20%24%28%60%3Cdiv%20id%3D%22html_3eccd0fce25d419ca631ed209814676a%22%20style%3D%22width%3A%20100.0%25%3B%20height%3A%20100.0%25%3B%22%3E1004%3C/div%3E%60%29%5B0%5D%3B%0A%20%20%20%20%20%20%20%20%20%20%20%20popup_f116a841152c4367b5b5b8670917e7ed.setContent%28html_3eccd0fce25d419ca631ed209814676a%29%3B%0A%20%20%20%20%20%20%20%20%0A%0A%20%20%20%20%20%20%20%20circle_marker_0a7bd07e087347bbba5b5a4444252248.bindPopup%28popup_f116a841152c4367b5b5b8670917e7ed%29%0A%20%20%20%20%20%20%20%20%3B%0A%0A%20%20%20%20%20%20%20%20%0A%20%20%20%20%0A%20%20%20%20%0A%20%20%20%20%20%20%20%20%20%20%20%20var%20circle_marker_2abed542c3684758bfd84ae7a928791d%20%3D%20L.circleMarker%28%0A%20%20%20%20%20%20%20%20%20%20%20%20%20%20%20%20%5B-37.812778%2C%20144.960556%5D%2C%0A%20%20%20%20%20%20%20%20%20%20%20%20%20%20%20%20%7B%22bubblingMouseEvents%22%3A%20true%2C%20%22color%22%3A%20%22red%22%2C%20%22dashArray%22%3A%20null%2C%20%22dashOffset%22%3A%20null%2C%20%22fill%22%3A%20false%2C%20%22fillColor%22%3A%20%22red%22%2C%20%22fillOpacity%22%3A%200.2%2C%20%22fillRule%22%3A%20%22evenodd%22%2C%20%22lineCap%22%3A%20%22round%22%2C%20%22lineJoin%22%3A%20%22round%22%2C%20%22opacity%22%3A%201.0%2C%20%22radius%22%3A%202%2C%20%22stroke%22%3A%20true%2C%20%22weight%22%3A%203%7D%0A%20%20%20%20%20%20%20%20%20%20%20%20%29.addTo%28map_17add72dbb69424d97e6368723a588f0%29%3B%0A%20%20%20%20%20%20%20%20%0A%20%20%20%20%0A%20%20%20%20%20%20%20%20var%20popup_9a09b7354ef84ea3ad30e768bb172889%20%3D%20L.popup%28%7B%22maxWidth%22%3A%20%22100%25%22%7D%29%3B%0A%0A%20%20%20%20%20%20%20%20%0A%20%20%20%20%20%20%20%20%20%20%20%20var%20html_07a519fc869844fc905c6c30335adc2d%20%3D%20%24%28%60%3Cdiv%20id%3D%22html_07a519fc869844fc905c6c30335adc2d%22%20style%3D%22width%3A%20100.0%25%3B%20height%3A%20100.0%25%3B%22%3E1016%3C/div%3E%60%29%5B0%5D%3B%0A%20%20%20%20%20%20%20%20%20%20%20%20popup_9a09b7354ef84ea3ad30e768bb172889.setContent%28html_07a519fc869844fc905c6c30335adc2d%29%3B%0A%20%20%20%20%20%20%20%20%0A%0A%20%20%20%20%20%20%20%20circle_marker_2abed542c3684758bfd84ae7a928791d.bindPopup%28popup_9a09b7354ef84ea3ad30e768bb172889%29%0A%20%20%20%20%20%20%20%20%3B%0A%0A%20%20%20%20%20%20%20%20%0A%20%20%20%20%0A%20%20%20%20%0A%20%20%20%20%20%20%20%20%20%20%20%20var%20circle_marker_2c115b51965b4f3db7237e3b06a8ef41%20%3D%20L.circleMarker%28%0A%20%20%20%20%20%20%20%20%20%20%20%20%20%20%20%20%5B-37.811944%2C%20144.956389%5D%2C%0A%20%20%20%20%20%20%20%20%20%20%20%20%20%20%20%20%7B%22bubblingMouseEvents%22%3A%20true%2C%20%22color%22%3A%20%22red%22%2C%20%22dashArray%22%3A%20null%2C%20%22dashOffset%22%3A%20null%2C%20%22fill%22%3A%20false%2C%20%22fillColor%22%3A%20%22red%22%2C%20%22fillOpacity%22%3A%200.2%2C%20%22fillRule%22%3A%20%22evenodd%22%2C%20%22lineCap%22%3A%20%22round%22%2C%20%22lineJoin%22%3A%20%22round%22%2C%20%22opacity%22%3A%201.0%2C%20%22radius%22%3A%202%2C%20%22stroke%22%3A%20true%2C%20%22weight%22%3A%203%7D%0A%20%20%20%20%20%20%20%20%20%20%20%20%29.addTo%28map_17add72dbb69424d97e6368723a588f0%29%3B%0A%20%20%20%20%20%20%20%20%0A%20%20%20%20%0A%20%20%20%20%20%20%20%20var%20popup_af6214a0f25a442da3bc3e9d9c2fbcd0%20%3D%20L.popup%28%7B%22maxWidth%22%3A%20%22100%25%22%7D%29%3B%0A%0A%20%20%20%20%20%20%20%20%0A%20%20%20%20%20%20%20%20%20%20%20%20var%20html_89bf70474fc84ce0836ccc9eadd5b24d%20%3D%20%24%28%60%3Cdiv%20id%3D%22html_89bf70474fc84ce0836ccc9eadd5b24d%22%20style%3D%22width%3A%20100.0%25%3B%20height%3A%20100.0%25%3B%22%3E1013%3C/div%3E%60%29%5B0%5D%3B%0A%20%20%20%20%20%20%20%20%20%20%20%20popup_af6214a0f25a442da3bc3e9d9c2fbcd0.setContent%28html_89bf70474fc84ce0836ccc9eadd5b24d%29%3B%0A%20%20%20%20%20%20%20%20%0A%0A%20%20%20%20%20%20%20%20circle_marker_2c115b51965b4f3db7237e3b06a8ef41.bindPopup%28popup_af6214a0f25a442da3bc3e9d9c2fbcd0%29%0A%20%20%20%20%20%20%20%20%3B%0A%0A%20%20%20%20%20%20%20%20%0A%20%20%20%20%0A%20%20%20%20%0A%20%20%20%20%20%20%20%20%20%20%20%20var%20circle_marker_ca835ccd7d984598be8092763de3a794%20%3D%20L.circleMarker%28%0A%20%20%20%20%20%20%20%20%20%20%20%20%20%20%20%20%5B-37.822486%2C%20144.952065%5D%2C%0A%20%20%20%20%20%20%20%20%20%20%20%20%20%20%20%20%7B%22bubblingMouseEvents%22%3A%20true%2C%20%22color%22%3A%20%22red%22%2C%20%22dashArray%22%3A%20null%2C%20%22dashOffset%22%3A%20null%2C%20%22fill%22%3A%20false%2C%20%22fillColor%22%3A%20%22red%22%2C%20%22fillOpacity%22%3A%200.2%2C%20%22fillRule%22%3A%20%22evenodd%22%2C%20%22lineCap%22%3A%20%22round%22%2C%20%22lineJoin%22%3A%20%22round%22%2C%20%22opacity%22%3A%201.0%2C%20%22radius%22%3A%202%2C%20%22stroke%22%3A%20true%2C%20%22weight%22%3A%203%7D%0A%20%20%20%20%20%20%20%20%20%20%20%20%29.addTo%28map_17add72dbb69424d97e6368723a588f0%29%3B%0A%20%20%20%20%20%20%20%20%0A%20%20%20%20%0A%20%20%20%20%20%20%20%20var%20popup_b1650ff3ab9c4b1e9127116d7ad93e65%20%3D%20L.popup%28%7B%22maxWidth%22%3A%20%22100%25%22%7D%29%3B%0A%0A%20%20%20%20%20%20%20%20%0A%20%20%20%20%20%20%20%20%20%20%20%20var%20html_d70459eb8b0d4d18b6160f20de12f443%20%3D%20%24%28%60%3Cdiv%20id%3D%22html_d70459eb8b0d4d18b6160f20de12f443%22%20style%3D%22width%3A%20100.0%25%3B%20height%3A%20100.0%25%3B%22%3E1006%3C/div%3E%60%29%5B0%5D%3B%0A%20%20%20%20%20%20%20%20%20%20%20%20popup_b1650ff3ab9c4b1e9127116d7ad93e65.setContent%28html_d70459eb8b0d4d18b6160f20de12f443%29%3B%0A%20%20%20%20%20%20%20%20%0A%0A%20%20%20%20%20%20%20%20circle_marker_ca835ccd7d984598be8092763de3a794.bindPopup%28popup_b1650ff3ab9c4b1e9127116d7ad93e65%29%0A%20%20%20%20%20%20%20%20%3B%0A%0A%20%20%20%20%20%20%20%20%0A%20%20%20%20%0A%20%20%20%20%0A%20%20%20%20%20%20%20%20%20%20%20%20var%20circle_marker_bffa546abd8b4d69aa85f17b6c91432a%20%3D%20L.circleMarker%28%0A%20%20%20%20%20%20%20%20%20%20%20%20%20%20%20%20%5B-37.810278%2C%20144.9725%5D%2C%0A%20%20%20%20%20%20%20%20%20%20%20%20%20%20%20%20%7B%22bubblingMouseEvents%22%3A%20true%2C%20%22color%22%3A%20%22red%22%2C%20%22dashArray%22%3A%20null%2C%20%22dashOffset%22%3A%20null%2C%20%22fill%22%3A%20false%2C%20%22fillColor%22%3A%20%22red%22%2C%20%22fillOpacity%22%3A%200.2%2C%20%22fillRule%22%3A%20%22evenodd%22%2C%20%22lineCap%22%3A%20%22round%22%2C%20%22lineJoin%22%3A%20%22round%22%2C%20%22opacity%22%3A%201.0%2C%20%22radius%22%3A%202%2C%20%22stroke%22%3A%20true%2C%20%22weight%22%3A%203%7D%0A%20%20%20%20%20%20%20%20%20%20%20%20%29.addTo%28map_17add72dbb69424d97e6368723a588f0%29%3B%0A%20%20%20%20%20%20%20%20%0A%20%20%20%20%0A%20%20%20%20%20%20%20%20var%20popup_ed4148482a3e4ec3816fb6e6fc6240eb%20%3D%20L.popup%28%7B%22maxWidth%22%3A%20%22100%25%22%7D%29%3B%0A%0A%20%20%20%20%20%20%20%20%0A%20%20%20%20%20%20%20%20%20%20%20%20var%20html_fdf0057d8a774fc88dea653e4c547abc%20%3D%20%24%28%60%3Cdiv%20id%3D%22html_fdf0057d8a774fc88dea653e4c547abc%22%20style%3D%22width%3A%20100.0%25%3B%20height%3A%20100.0%25%3B%22%3E1015%3C/div%3E%60%29%5B0%5D%3B%0A%20%20%20%20%20%20%20%20%20%20%20%20popup_ed4148482a3e4ec3816fb6e6fc6240eb.setContent%28html_fdf0057d8a774fc88dea653e4c547abc%29%3B%0A%20%20%20%20%20%20%20%20%0A%0A%20%20%20%20%20%20%20%20circle_marker_bffa546abd8b4d69aa85f17b6c91432a.bindPopup%28popup_ed4148482a3e4ec3816fb6e6fc6240eb%29%0A%20%20%20%20%20%20%20%20%3B%0A%0A%20%20%20%20%20%20%20%20%0A%20%20%20%20%0A%20%20%20%20%0A%20%20%20%20%20%20%20%20%20%20%20%20var%20circle_marker_077457d1ff6548949c569fa6da41ea4f%20%3D%20L.circleMarker%28%0A%20%20%20%20%20%20%20%20%20%20%20%20%20%20%20%20%5B-37.82250002%2C%20144.95222195%5D%2C%0A%20%20%20%20%20%20%20%20%20%20%20%20%20%20%20%20%7B%22bubblingMouseEvents%22%3A%20true%2C%20%22color%22%3A%20%22red%22%2C%20%22dashArray%22%3A%20null%2C%20%22dashOffset%22%3A%20null%2C%20%22fill%22%3A%20false%2C%20%22fillColor%22%3A%20%22red%22%2C%20%22fillOpacity%22%3A%200.2%2C%20%22fillRule%22%3A%20%22evenodd%22%2C%20%22lineCap%22%3A%20%22round%22%2C%20%22lineJoin%22%3A%20%22round%22%2C%20%22opacity%22%3A%201.0%2C%20%22radius%22%3A%202%2C%20%22stroke%22%3A%20true%2C%20%22weight%22%3A%203%7D%0A%20%20%20%20%20%20%20%20%20%20%20%20%29.addTo%28map_17add72dbb69424d97e6368723a588f0%29%3B%0A%20%20%20%20%20%20%20%20%0A%20%20%20%20%0A%20%20%20%20%20%20%20%20var%20popup_794ae6229cd24f2a98a7f26b73675fc4%20%3D%20L.popup%28%7B%22maxWidth%22%3A%20%22100%25%22%7D%29%3B%0A%0A%20%20%20%20%20%20%20%20%0A%20%20%20%20%20%20%20%20%20%20%20%20var%20html_fe19ccdce44344b383c8df08992c6a81%20%3D%20%24%28%60%3Cdiv%20id%3D%22html_fe19ccdce44344b383c8df08992c6a81%22%20style%3D%22width%3A%20100.0%25%3B%20height%3A%20100.0%25%3B%22%3E1010%3C/div%3E%60%29%5B0%5D%3B%0A%20%20%20%20%20%20%20%20%20%20%20%20popup_794ae6229cd24f2a98a7f26b73675fc4.setContent%28html_fe19ccdce44344b383c8df08992c6a81%29%3B%0A%20%20%20%20%20%20%20%20%0A%0A%20%20%20%20%20%20%20%20circle_marker_077457d1ff6548949c569fa6da41ea4f.bindPopup%28popup_794ae6229cd24f2a98a7f26b73675fc4%29%0A%20%20%20%20%20%20%20%20%3B%0A%0A%20%20%20%20%20%20%20%20%0A%20%20%20%20%0A%20%20%20%20%0A%20%20%20%20%20%20%20%20%20%20%20%20var%20circle_marker_e1d1c5c3eb0345bebc43fdb8d9bf33a1%20%3D%20L.circleMarker%28%0A%20%20%20%20%20%20%20%20%20%20%20%20%20%20%20%20%5B-37.822222%2C%20144.952222%5D%2C%0A%20%20%20%20%20%20%20%20%20%20%20%20%20%20%20%20%7B%22bubblingMouseEvents%22%3A%20true%2C%20%22color%22%3A%20%22red%22%2C%20%22dashArray%22%3A%20null%2C%20%22dashOffset%22%3A%20null%2C%20%22fill%22%3A%20false%2C%20%22fillColor%22%3A%20%22red%22%2C%20%22fillOpacity%22%3A%200.2%2C%20%22fillRule%22%3A%20%22evenodd%22%2C%20%22lineCap%22%3A%20%22round%22%2C%20%22lineJoin%22%3A%20%22round%22%2C%20%22opacity%22%3A%201.0%2C%20%22radius%22%3A%202%2C%20%22stroke%22%3A%20true%2C%20%22weight%22%3A%203%7D%0A%20%20%20%20%20%20%20%20%20%20%20%20%29.addTo%28map_17add72dbb69424d97e6368723a588f0%29%3B%0A%20%20%20%20%20%20%20%20%0A%20%20%20%20%0A%20%20%20%20%20%20%20%20var%20popup_e60e070d26964300b09880f332a4b7d6%20%3D%20L.popup%28%7B%22maxWidth%22%3A%20%22100%25%22%7D%29%3B%0A%0A%20%20%20%20%20%20%20%20%0A%20%20%20%20%20%20%20%20%20%20%20%20var%20html_fa66ee80a4734cccb2162ca0b363233f%20%3D%20%24%28%60%3Cdiv%20id%3D%22html_fa66ee80a4734cccb2162ca0b363233f%22%20style%3D%22width%3A%20100.0%25%3B%20height%3A%20100.0%25%3B%22%3E1011%3C/div%3E%60%29%5B0%5D%3B%0A%20%20%20%20%20%20%20%20%20%20%20%20popup_e60e070d26964300b09880f332a4b7d6.setContent%28html_fa66ee80a4734cccb2162ca0b363233f%29%3B%0A%20%20%20%20%20%20%20%20%0A%0A%20%20%20%20%20%20%20%20circle_marker_e1d1c5c3eb0345bebc43fdb8d9bf33a1.bindPopup%28popup_e60e070d26964300b09880f332a4b7d6%29%0A%20%20%20%20%20%20%20%20%3B%0A%0A%20%20%20%20%20%20%20%20%0A%20%20%20%20%0A%20%20%20%20%0A%20%20%20%20%20%20%20%20%20%20%20%20var%20circle_marker_206fc8e455724573b8acb3361d00f3f9%20%3D%20L.circleMarker%28%0A%20%20%20%20%20%20%20%20%20%20%20%20%20%20%20%20%5B-37.81686763%2C%20144.96570467%5D%2C%0A%20%20%20%20%20%20%20%20%20%20%20%20%20%20%20%20%7B%22bubblingMouseEvents%22%3A%20true%2C%20%22color%22%3A%20%22red%22%2C%20%22dashArray%22%3A%20null%2C%20%22dashOffset%22%3A%20null%2C%20%22fill%22%3A%20false%2C%20%22fillColor%22%3A%20%22red%22%2C%20%22fillOpacity%22%3A%200.2%2C%20%22fillRule%22%3A%20%22evenodd%22%2C%20%22lineCap%22%3A%20%22round%22%2C%20%22lineJoin%22%3A%20%22round%22%2C%20%22opacity%22%3A%201.0%2C%20%22radius%22%3A%202%2C%20%22stroke%22%3A%20true%2C%20%22weight%22%3A%203%7D%0A%20%20%20%20%20%20%20%20%20%20%20%20%29.addTo%28map_17add72dbb69424d97e6368723a588f0%29%3B%0A%20%20%20%20%20%20%20%20%0A%20%20%20%20%0A%20%20%20%20%20%20%20%20var%20popup_ba86bc60911f451d88c5d328df653f73%20%3D%20L.popup%28%7B%22maxWidth%22%3A%20%22100%25%22%7D%29%3B%0A%0A%20%20%20%20%20%20%20%20%0A%20%20%20%20%20%20%20%20%20%20%20%20var%20html_c8055f9a20484c849911d1e5ec098bc1%20%3D%20%24%28%60%3Cdiv%20id%3D%22html_c8055f9a20484c849911d1e5ec098bc1%22%20style%3D%22width%3A%20100.0%25%3B%20height%3A%20100.0%25%3B%22%3E1009%3C/div%3E%60%29%5B0%5D%3B%0A%20%20%20%20%20%20%20%20%20%20%20%20popup_ba86bc60911f451d88c5d328df653f73.setContent%28html_c8055f9a20484c849911d1e5ec098bc1%29%3B%0A%20%20%20%20%20%20%20%20%0A%0A%20%20%20%20%20%20%20%20circle_marker_206fc8e455724573b8acb3361d00f3f9.bindPopup%28popup_ba86bc60911f451d88c5d328df653f73%29%0A%20%20%20%20%20%20%20%20%3B%0A%0A%20%20%20%20%20%20%20%20%0A%20%20%20%20%0A%20%20%20%20%0A%20%20%20%20%20%20%20%20%20%20%20%20var%20circle_marker_3f57ab4718324ca3aa20f887297893f9%20%3D%20L.circleMarker%28%0A%20%20%20%20%20%20%20%20%20%20%20%20%20%20%20%20%5B-37.8175%2C%20144.967222%5D%2C%0A%20%20%20%20%20%20%20%20%20%20%20%20%20%20%20%20%7B%22bubblingMouseEvents%22%3A%20true%2C%20%22color%22%3A%20%22red%22%2C%20%22dashArray%22%3A%20null%2C%20%22dashOffset%22%3A%20null%2C%20%22fill%22%3A%20false%2C%20%22fillColor%22%3A%20%22red%22%2C%20%22fillOpacity%22%3A%200.2%2C%20%22fillRule%22%3A%20%22evenodd%22%2C%20%22lineCap%22%3A%20%22round%22%2C%20%22lineJoin%22%3A%20%22round%22%2C%20%22opacity%22%3A%201.0%2C%20%22radius%22%3A%202%2C%20%22stroke%22%3A%20true%2C%20%22weight%22%3A%203%7D%0A%20%20%20%20%20%20%20%20%20%20%20%20%29.addTo%28map_17add72dbb69424d97e6368723a588f0%29%3B%0A%20%20%20%20%20%20%20%20%0A%20%20%20%20%0A%20%20%20%20%20%20%20%20var%20popup_e3ed186bdb4f4939a9a9e9734ce9e1b2%20%3D%20L.popup%28%7B%22maxWidth%22%3A%20%22100%25%22%7D%29%3B%0A%0A%20%20%20%20%20%20%20%20%0A%20%20%20%20%20%20%20%20%20%20%20%20var%20html_f81cb0548d0e487caebbf327b633db93%20%3D%20%24%28%60%3Cdiv%20id%3D%22html_f81cb0548d0e487caebbf327b633db93%22%20style%3D%22width%3A%20100.0%25%3B%20height%3A%20100.0%25%3B%22%3E1014%3C/div%3E%60%29%5B0%5D%3B%0A%20%20%20%20%20%20%20%20%20%20%20%20popup_e3ed186bdb4f4939a9a9e9734ce9e1b2.setContent%28html_f81cb0548d0e487caebbf327b633db93%29%3B%0A%20%20%20%20%20%20%20%20%0A%0A%20%20%20%20%20%20%20%20circle_marker_3f57ab4718324ca3aa20f887297893f9.bindPopup%28popup_e3ed186bdb4f4939a9a9e9734ce9e1b2%29%0A%20%20%20%20%20%20%20%20%3B%0A%0A%20%20%20%20%20%20%20%20%0A%20%20%20%20%0A%20%20%20%20%0A%20%20%20%20%20%20%20%20%20%20%20%20var%20circle_marker_193f43d81d6144b8a9b73aa2e3a49ac6%20%3D%20L.circleMarker%28%0A%20%20%20%20%20%20%20%20%20%20%20%20%20%20%20%20%5B-37.800793%2C%20144.966492%5D%2C%0A%20%20%20%20%20%20%20%20%20%20%20%20%20%20%20%20%7B%22bubblingMouseEvents%22%3A%20true%2C%20%22color%22%3A%20%22red%22%2C%20%22dashArray%22%3A%20null%2C%20%22dashOffset%22%3A%20null%2C%20%22fill%22%3A%20false%2C%20%22fillColor%22%3A%20%22red%22%2C%20%22fillOpacity%22%3A%200.2%2C%20%22fillRule%22%3A%20%22evenodd%22%2C%20%22lineCap%22%3A%20%22round%22%2C%20%22lineJoin%22%3A%20%22round%22%2C%20%22opacity%22%3A%201.0%2C%20%22radius%22%3A%202%2C%20%22stroke%22%3A%20true%2C%20%22weight%22%3A%203%7D%0A%20%20%20%20%20%20%20%20%20%20%20%20%29.addTo%28map_17add72dbb69424d97e6368723a588f0%29%3B%0A%20%20%20%20%20%20%20%20%0A%20%20%20%20%0A%20%20%20%20%20%20%20%20var%20popup_589bbd148e0f4928a441822101003df4%20%3D%20L.popup%28%7B%22maxWidth%22%3A%20%22100%25%22%7D%29%3B%0A%0A%20%20%20%20%20%20%20%20%0A%20%20%20%20%20%20%20%20%20%20%20%20var%20html_64b3eb0d239e427e88cc3e47846ce514%20%3D%20%24%28%60%3Cdiv%20id%3D%22html_64b3eb0d239e427e88cc3e47846ce514%22%20style%3D%22width%3A%20100.0%25%3B%20height%3A%20100.0%25%3B%22%3E1001%3C/div%3E%60%29%5B0%5D%3B%0A%20%20%20%20%20%20%20%20%20%20%20%20popup_589bbd148e0f4928a441822101003df4.setContent%28html_64b3eb0d239e427e88cc3e47846ce514%29%3B%0A%20%20%20%20%20%20%20%20%0A%0A%20%20%20%20%20%20%20%20circle_marker_193f43d81d6144b8a9b73aa2e3a49ac6.bindPopup%28popup_589bbd148e0f4928a441822101003df4%29%0A%20%20%20%20%20%20%20%20%3B%0A%0A%20%20%20%20%20%20%20%20%0A%20%20%20%20%0A%20%20%20%20%0A%20%20%20%20%20%20%20%20%20%20%20%20var%20circle_marker_e8bc9269d82b4801a7e18484fd0a5035%20%3D%20L.circleMarker%28%0A%20%20%20%20%20%20%20%20%20%20%20%20%20%20%20%20%5B-37.800629%2C%20144.965052%5D%2C%0A%20%20%20%20%20%20%20%20%20%20%20%20%20%20%20%20%7B%22bubblingMouseEvents%22%3A%20true%2C%20%22color%22%3A%20%22red%22%2C%20%22dashArray%22%3A%20null%2C%20%22dashOffset%22%3A%20null%2C%20%22fill%22%3A%20false%2C%20%22fillColor%22%3A%20%22red%22%2C%20%22fillOpacity%22%3A%200.2%2C%20%22fillRule%22%3A%20%22evenodd%22%2C%20%22lineCap%22%3A%20%22round%22%2C%20%22lineJoin%22%3A%20%22round%22%2C%20%22opacity%22%3A%201.0%2C%20%22radius%22%3A%202%2C%20%22stroke%22%3A%20true%2C%20%22weight%22%3A%203%7D%0A%20%20%20%20%20%20%20%20%20%20%20%20%29.addTo%28map_17add72dbb69424d97e6368723a588f0%29%3B%0A%20%20%20%20%20%20%20%20%0A%20%20%20%20%0A%20%20%20%20%20%20%20%20var%20popup_988d7913dffa4819b1d06aa42e16fc1c%20%3D%20L.popup%28%7B%22maxWidth%22%3A%20%22100%25%22%7D%29%3B%0A%0A%20%20%20%20%20%20%20%20%0A%20%20%20%20%20%20%20%20%20%20%20%20var%20html_1eb86b9f296d4aa89444fff0642854bf%20%3D%20%24%28%60%3Cdiv%20id%3D%22html_1eb86b9f296d4aa89444fff0642854bf%22%20style%3D%22width%3A%20100.0%25%3B%20height%3A%20100.0%25%3B%22%3E1005%3C/div%3E%60%29%5B0%5D%3B%0A%20%20%20%20%20%20%20%20%20%20%20%20popup_988d7913dffa4819b1d06aa42e16fc1c.setContent%28html_1eb86b9f296d4aa89444fff0642854bf%29%3B%0A%20%20%20%20%20%20%20%20%0A%0A%20%20%20%20%20%20%20%20circle_marker_e8bc9269d82b4801a7e18484fd0a5035.bindPopup%28popup_988d7913dffa4819b1d06aa42e16fc1c%29%0A%20%20%20%20%20%20%20%20%3B%0A%0A%20%20%20%20%20%20%20%20%0A%20%20%20%20%0A%20%20%20%20%0A%20%20%20%20%20%20%20%20%20%20%20%20var%20circle_marker_262d75f205314e55b610112f016befbe%20%3D%20L.circleMarker%28%0A%20%20%20%20%20%20%20%20%20%20%20%20%20%20%20%20%5B-37.800524%2C%20144.964122%5D%2C%0A%20%20%20%20%20%20%20%20%20%20%20%20%20%20%20%20%7B%22bubblingMouseEvents%22%3A%20true%2C%20%22color%22%3A%20%22red%22%2C%20%22dashArray%22%3A%20null%2C%20%22dashOffset%22%3A%20null%2C%20%22fill%22%3A%20false%2C%20%22fillColor%22%3A%20%22red%22%2C%20%22fillOpacity%22%3A%200.2%2C%20%22fillRule%22%3A%20%22evenodd%22%2C%20%22lineCap%22%3A%20%22round%22%2C%20%22lineJoin%22%3A%20%22round%22%2C%20%22opacity%22%3A%201.0%2C%20%22radius%22%3A%202%2C%20%22stroke%22%3A%20true%2C%20%22weight%22%3A%203%7D%0A%20%20%20%20%20%20%20%20%20%20%20%20%29.addTo%28map_17add72dbb69424d97e6368723a588f0%29%3B%0A%20%20%20%20%20%20%20%20%0A%20%20%20%20%0A%20%20%20%20%20%20%20%20var%20popup_580b9cd3ae1a4b5090dcabd28951a8fc%20%3D%20L.popup%28%7B%22maxWidth%22%3A%20%22100%25%22%7D%29%3B%0A%0A%20%20%20%20%20%20%20%20%0A%20%20%20%20%20%20%20%20%20%20%20%20var%20html_84fcc1517a8b4fc1a9d647e15ccf5f6f%20%3D%20%24%28%60%3Cdiv%20id%3D%22html_84fcc1517a8b4fc1a9d647e15ccf5f6f%22%20style%3D%22width%3A%20100.0%25%3B%20height%3A%20100.0%25%3B%22%3E1002%3C/div%3E%60%29%5B0%5D%3B%0A%20%20%20%20%20%20%20%20%20%20%20%20popup_580b9cd3ae1a4b5090dcabd28951a8fc.setContent%28html_84fcc1517a8b4fc1a9d647e15ccf5f6f%29%3B%0A%20%20%20%20%20%20%20%20%0A%0A%20%20%20%20%20%20%20%20circle_marker_262d75f205314e55b610112f016befbe.bindPopup%28popup_580b9cd3ae1a4b5090dcabd28951a8fc%29%0A%20%20%20%20%20%20%20%20%3B%0A%0A%20%20%20%20%20%20%20%20%0A%20%20%20%20%0A%3C/script%3E onload=\"this.contentDocument.open();this.contentDocument.write(    decodeURIComponent(this.getAttribute('data-html')));this.contentDocument.close();\" allowfullscreen webkitallowfullscreen mozallowfullscreen></iframe></div></div>"
      ],
      "text/plain": [
       "<folium.folium.Map at 0x27e1c58d8e0>"
      ]
     },
     "execution_count": 14,
     "metadata": {},
     "output_type": "execute_result"
    }
   ],
   "source": [
    "#Overview of the location of the sensors.\n",
    "\n",
    "import folium\n",
    "\n",
    "\n",
    "X=lat\n",
    "Y=lon\n",
    "\n",
    "lat_map= -37.808835\n",
    "lon_map= 144.962457\n",
    "\n",
    "map1=folium.Map([lat_map, lon_map], zoom_start=14)\n",
    "for i in range(len(Y)):\n",
    "    # Circle marker\n",
    "    folium.CircleMarker([X[i],Y[i]],\n",
    "                        radius=2,\n",
    "                        popup=site[i],\n",
    "                        color=\"red\",\n",
    "                        ).add_to(map1)\n",
    "\n",
    "\n",
    "map1"
   ]
  },
  {
   "cell_type": "markdown",
   "id": "b9633f83",
   "metadata": {},
   "source": [
    "#### Comment on geoplot\n",
    "\n",
    "First of all its clear from the plot that not alle areas of Melbourne are covered by the sensors. Also it can be seen that some areas the 3 or 4 sensors located very close to each other while other areas only have 1 sensor. For the places that have multiple sensors close to each other, we can see that the date of the records do NOT overlap each other. So eventhough the sensor are ontop of each other they do not cause duplicates in the data, which is good.\n",
    "\n",
    "To make sense of the data, it we have to also cluster the data, so that the sensors that are on top of each other with none overlapping data is counted as one single sensor.\n"
   ]
  },
  {
   "cell_type": "code",
   "execution_count": 15,
   "id": "ad726e87",
   "metadata": {},
   "outputs": [
    {
     "data": {
      "image/png": "[encoded data removed]",
      "text/plain": [
       "<Figure size 432x288 with 1 Axes>"
      ]
     },
     "metadata": {
      "needs_background": "light"
     },
     "output_type": "display_data"
    },
    {
     "data": {
      "image/png": "[encoded data removed]",
      "text/plain": [
       "<Figure size 432x288 with 1 Axes>"
      ]
     },
     "metadata": {
      "needs_background": "light"
     },
     "output_type": "display_data"
    },
    {
     "data": {
      "image/png": "[encoded data removed]",
      "text/plain": [
       "<Figure size 432x288 with 1 Axes>"
      ]
     },
     "metadata": {
      "needs_background": "light"
     },
     "output_type": "display_data"
    },
    {
     "data": {
      "image/png": "[encoded data removed]",
      "text/plain": [
       "<Figure size 432x288 with 1 Axes>"
      ]
     },
     "metadata": {
      "needs_background": "light"
     },
     "output_type": "display_data"
    },
    {
     "data": {
      "image/png": "[encoded data removed]",
      "text/plain": [
       "<Figure size 432x288 with 1 Axes>"
      ]
     },
     "metadata": {
      "needs_background": "light"
     },
     "output_type": "display_data"
    },
    {
     "data": {
      "image/png": "[encoded data removed]",
      "text/plain": [
       "<Figure size 432x288 with 1 Axes>"
      ]
     },
     "metadata": {
      "needs_background": "light"
     },
     "output_type": "display_data"
    },
    {
     "data": {
      "image/png": "[encoded data removed]",
      "text/plain": [
       "<Figure size 432x288 with 1 Axes>"
      ]
     },
     "metadata": {
      "needs_background": "light"
     },
     "output_type": "display_data"
    },
    {
     "data": {
      "image/png": "[encoded data removed]",
      "text/plain": [
       "<Figure size 432x288 with 1 Axes>"
      ]
     },
     "metadata": {
      "needs_background": "light"
     },
     "output_type": "display_data"
    },
    {
     "data": {
      "image/png": "[encoded data removed]",
      "text/plain": [
       "<Figure size 432x288 with 1 Axes>"
      ]
     },
     "metadata": {
      "needs_background": "light"
     },
     "output_type": "display_data"
    }
   ],
   "source": [
    "import matplotlib.pyplot as plt\n",
    "# Measurements on df_mcr.\n",
    "for i in range(len(sensor)):\n",
    "    temp_site=df_mcr.loc[df_mcr[\"gateway_hub_id\"]==sensor[i]]\n",
    "    \n",
    "    for k in range(len(unit)):\n",
    "        temp_unit=temp_site.loc[temp_site[\"units\"]==unit[k]]\n",
    "        mean = temp_unit[\"value\"].mean()\n",
    "        #print(\"Sensor:\",site[i],\"  units\",unit[k],\"   Value measured:\",mean)\n",
    "        \n",
    "        plt.bar(unit[k],mean)\n",
    "    plt.show()"
   ]
  },
  {
   "cell_type": "code",
   "execution_count": 16,
   "id": "99610ff3",
   "metadata": {},
   "outputs": [
    {
     "data": {
      "image/png": "[encoded data removed]",
      "text/plain": [
       "<Figure size 432x288 with 1 Axes>"
      ]
     },
     "metadata": {
      "needs_background": "light"
     },
     "output_type": "display_data"
    },
    {
     "data": {
      "image/png": "[encoded data removed]",
      "text/plain": [
       "<Figure size 432x288 with 1 Axes>"
      ]
     },
     "metadata": {
      "needs_background": "light"
     },
     "output_type": "display_data"
    },
    {
     "data": {
      "image/png": "[encoded data removed]",
      "text/plain": [
       "<Figure size 432x288 with 1 Axes>"
      ]
     },
     "metadata": {
      "needs_background": "light"
     },
     "output_type": "display_data"
    },
    {
     "data": {
      "image/png": "[encoded data removed]",
      "text/plain": [
       "<Figure size 432x288 with 1 Axes>"
      ]
     },
     "metadata": {
      "needs_background": "light"
     },
     "output_type": "display_data"
    },
    {
     "data": {
      "image/png": "[encoded data removed]",
      "text/plain": [
       "<Figure size 432x288 with 1 Axes>"
      ]
     },
     "metadata": {
      "needs_background": "light"
     },
     "output_type": "display_data"
    },
    {
     "data": {
      "image/png": "[encoded data removed]",
      "text/plain": [
       "<Figure size 432x288 with 1 Axes>"
      ]
     },
     "metadata": {
      "needs_background": "light"
     },
     "output_type": "display_data"
    },
    {
     "data": {
      "image/png": "[encoded data removed]",
      "text/plain": [
       "<Figure size 432x288 with 1 Axes>"
      ]
     },
     "metadata": {
      "needs_background": "light"
     },
     "output_type": "display_data"
    }
   ],
   "source": [
    "import matplotlib.pyplot as plt\n",
    "# Measurements on df_mcr.\n",
    "\n",
    "for k in range(len(unit)):\n",
    "    temp_site=df_mcr.loc[df_mcr[\"units\"]==unit[k]]\n",
    "        \n",
    "        \n",
    "    for i in range(len(sensor)):\n",
    "        temp_unit=temp_site.loc[temp_site[\"gateway_hub_id\"]==sensor[i]]\n",
    "        mean = temp_unit[\"value\"].mean()\n",
    "        #print(\"Sensor:\",site[i],\"  units\",unit[k],\"   Value measured:\",mean)\n",
    "        \n",
    "        \n",
    "        plt.bar(str(sensor[i]),mean)\n",
    "        plt.title(unit[k])\n",
    "        plt.xticks(rotation=90)\n",
    "    plt.show()"
   ]
  },
  {
   "cell_type": "markdown",
   "id": "39005718",
   "metadata": {},
   "source": [
    "From this initial plotting of the data we can see that not all features are equally valueable. Also we can see that some features are more locally different for example wind speed, while others are more different based on location for example wind speed. These plots also show that there is an error in the dataset. We can see the sensor 1011 (arc1055), is measuring particles using a wrong unit format. We can assume that changing the string to the correct format will fix the issue."
   ]
  },
  {
   "cell_type": "code",
   "execution_count": 17,
   "id": "49c2dd72",
   "metadata": {},
   "outputs": [
    {
     "ename": "NameError",
     "evalue": "name 'df_prostitution' is not defined",
     "output_type": "error",
     "traceback": [
      "\u001b[1;31m---------------------------------------------------------------------------\u001b[0m",
      "\u001b[1;31mNameError\u001b[0m                                 Traceback (most recent call last)",
      "\u001b[1;32m<ipython-input-17-7c6288eeb211>\u001b[0m in \u001b[0;36m<module>\u001b[1;34m\u001b[0m\n\u001b[0;32m      3\u001b[0m \u001b[1;32mfrom\u001b[0m \u001b[0mfolium\u001b[0m\u001b[1;33m.\u001b[0m\u001b[0mplugins\u001b[0m \u001b[1;32mimport\u001b[0m \u001b[0mHeatMap\u001b[0m\u001b[1;33m\u001b[0m\u001b[1;33m\u001b[0m\u001b[0m\n\u001b[0;32m      4\u001b[0m \u001b[1;33m\u001b[0m\u001b[0m\n\u001b[1;32m----> 5\u001b[1;33m \u001b[0mheat_data\u001b[0m \u001b[1;33m=\u001b[0m \u001b[1;33m[\u001b[0m\u001b[1;33m[\u001b[0m\u001b[0mrow\u001b[0m\u001b[1;33m[\u001b[0m\u001b[1;34m'Y'\u001b[0m\u001b[1;33m]\u001b[0m\u001b[1;33m,\u001b[0m\u001b[0mrow\u001b[0m\u001b[1;33m[\u001b[0m\u001b[1;34m'X'\u001b[0m\u001b[1;33m]\u001b[0m\u001b[1;33m]\u001b[0m \u001b[1;32mfor\u001b[0m \u001b[0mindex\u001b[0m\u001b[1;33m,\u001b[0m \u001b[0mrow\u001b[0m \u001b[1;32min\u001b[0m \u001b[0mdf_prostitution\u001b[0m\u001b[1;33m.\u001b[0m\u001b[0miterrows\u001b[0m\u001b[1;33m(\u001b[0m\u001b[1;33m)\u001b[0m\u001b[1;33m]\u001b[0m\u001b[1;33m\u001b[0m\u001b[1;33m\u001b[0m\u001b[0m\n\u001b[0m\u001b[0;32m      6\u001b[0m \u001b[1;33m\u001b[0m\u001b[0m\n\u001b[0;32m      7\u001b[0m \u001b[0mX1\u001b[0m\u001b[1;33m=\u001b[0m\u001b[0mdf_prostitution\u001b[0m \u001b[1;33m[\u001b[0m\u001b[1;34m\"X\"\u001b[0m\u001b[1;33m]\u001b[0m\u001b[1;33m.\u001b[0m\u001b[0mvalues\u001b[0m\u001b[1;33m\u001b[0m\u001b[1;33m\u001b[0m\u001b[0m\n",
      "\u001b[1;31mNameError\u001b[0m: name 'df_prostitution' is not defined"
     ]
    }
   ],
   "source": [
    "\n",
    "import folium\n",
    "from folium import plugins\n",
    "from folium.plugins import HeatMap\n",
    "\n",
    "heat_data = [[row['Y'],row['X']] for index, row in df_prostitution.iterrows()]\n",
    "\n",
    "X1=df_prostitution [\"X\"].values\n",
    "Y1=df_prostitution [\"Y\"].values\n",
    "\n",
    "lat= 37.773972\n",
    "lon= -122.431297\n",
    "map2=folium.Map([lat, lon], zoom_start=13)\n",
    "\n",
    "HeatMap(heat_data).add_to(map2)\n",
    "\n",
    "map2"
   ]
  },
  {
   "cell_type": "code",
   "execution_count": null,
   "id": "7d090187",
   "metadata": {},
   "outputs": [],
   "source": []
  }
 ],
 "metadata": {
  "kernelspec": {
   "display_name": "Python 3",
   "language": "python",
   "name": "python3"
  },
  "language_info": {
   "codemirror_mode": {
    "name": "ipython",
    "version": 3
   },
   "file_extension": ".py",
   "mimetype": "text/x-python",
   "name": "python",
   "nbconvert_exporter": "python",
   "pygments_lexer": "ipython3",
   "version": "3.8.8"
  }
 },
 "nbformat": 4,
 "nbformat_minor": 5
}
